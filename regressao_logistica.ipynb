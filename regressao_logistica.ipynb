{
  "nbformat": 4,
  "nbformat_minor": 0,
  "metadata": {
    "colab": {
      "name": "regressao_logistica.ipynb",
      "provenance": []
    },
    "kernelspec": {
      "name": "python3",
      "display_name": "Python 3"
    }
  },
  "cells": [
    {
      "cell_type": "markdown",
      "metadata": {
        "id": "m3DxWNUaVjwy",
        "colab_type": "text"
      },
      "source": [
        "# Bibliotecas"
      ]
    },
    {
      "cell_type": "markdown",
      "metadata": {
        "id": "sDv9fnulV0BM",
        "colab_type": "text"
      },
      "source": [
        "# Preparando os Dados"
      ]
    },
    {
      "cell_type": "markdown",
      "metadata": {
        "id": "ChmvClyyVmZx",
        "colab_type": "text"
      },
      "source": [
        "# Treino e Teste"
      ]
    },
    {
      "cell_type": "markdown",
      "metadata": {
        "id": "esFro5xjVqsN",
        "colab_type": "text"
      },
      "source": [
        "# Modelo : Regressão Logística\n",
        "\n",
        "Uma breve explicação sobre regressão logística : \n",
        "* É um modelo que permite estimar a probabilidade dá variável dependente assumir um determinado valor em função dos conhecidos de outras variáveis.\n",
        "* Os resultados da análise ficam contidos no intervalo de zero a um.\n",
        "* Recomendado para usar em situações em que a variável dependente é de natureza binária.\n",
        "\n",
        "![texto alternativo](https://matheusfacure.github.io/img/tutorial/sigmoid.png)"
      ]
    },
    {
      "cell_type": "markdown",
      "metadata": {
        "id": "4wk99UwDV8Og",
        "colab_type": "text"
      },
      "source": [
        "# Validação do modelo"
      ]
    }
  ]
}