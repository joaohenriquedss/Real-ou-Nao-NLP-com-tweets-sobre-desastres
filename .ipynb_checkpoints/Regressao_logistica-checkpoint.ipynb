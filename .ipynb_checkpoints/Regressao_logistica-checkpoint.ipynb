{
 "cells": [
  {
   "cell_type": "markdown",
   "metadata": {
    "colab_type": "text",
    "id": "m3DxWNUaVjwy"
   },
   "source": [
    "# Bibliotecas"
   ]
  },
  {
   "cell_type": "code",
   "execution_count": 1,
   "metadata": {},
   "outputs": [],
   "source": [
    "import pandas as pd\n",
    "from sklearn.linear_model import LogisticRegression\n",
    "from sklearn.feature_extraction.text import CountVectorizer\n",
    "from sklearn.model_selection import train_test_split\n",
    "from sklearn import metrics\n",
    "from sklearn.metrics import accuracy_score"
   ]
  },
  {
   "cell_type": "markdown",
   "metadata": {},
   "source": [
    "# Ler Arquivo"
   ]
  },
  {
   "cell_type": "code",
   "execution_count": 2,
   "metadata": {},
   "outputs": [
    {
     "data": {
      "text/html": [
       "<div>\n",
       "<style scoped>\n",
       "    .dataframe tbody tr th:only-of-type {\n",
       "        vertical-align: middle;\n",
       "    }\n",
       "\n",
       "    .dataframe tbody tr th {\n",
       "        vertical-align: top;\n",
       "    }\n",
       "\n",
       "    .dataframe thead th {\n",
       "        text-align: right;\n",
       "    }\n",
       "</style>\n",
       "<table border=\"1\" class=\"dataframe\">\n",
       "  <thead>\n",
       "    <tr style=\"text-align: right;\">\n",
       "      <th></th>\n",
       "      <th>Unnamed: 0</th>\n",
       "      <th>id</th>\n",
       "      <th>text</th>\n",
       "      <th>target</th>\n",
       "    </tr>\n",
       "  </thead>\n",
       "  <tbody>\n",
       "    <tr>\n",
       "      <th>0</th>\n",
       "      <td>0</td>\n",
       "      <td>1</td>\n",
       "      <td>deed reason thi earthquak may allah forgiv us</td>\n",
       "      <td>1</td>\n",
       "    </tr>\n",
       "    <tr>\n",
       "      <th>1</th>\n",
       "      <td>1</td>\n",
       "      <td>4</td>\n",
       "      <td>forest fire near la rong sask canada</td>\n",
       "      <td>1</td>\n",
       "    </tr>\n",
       "    <tr>\n",
       "      <th>2</th>\n",
       "      <td>2</td>\n",
       "      <td>5</td>\n",
       "      <td>resid ask shelter place notifi offic evacu she...</td>\n",
       "      <td>1</td>\n",
       "    </tr>\n",
       "    <tr>\n",
       "      <th>3</th>\n",
       "      <td>3</td>\n",
       "      <td>6</td>\n",
       "      <td>peopl receiv wildfir evacu order california</td>\n",
       "      <td>1</td>\n",
       "    </tr>\n",
       "    <tr>\n",
       "      <th>4</th>\n",
       "      <td>4</td>\n",
       "      <td>7</td>\n",
       "      <td>got sent thi photo rubi alaska smoke wildfir p...</td>\n",
       "      <td>1</td>\n",
       "    </tr>\n",
       "    <tr>\n",
       "      <th>5</th>\n",
       "      <td>5</td>\n",
       "      <td>8</td>\n",
       "      <td>rockyfir updat california hwi close direct due...</td>\n",
       "      <td>1</td>\n",
       "    </tr>\n",
       "    <tr>\n",
       "      <th>6</th>\n",
       "      <td>6</td>\n",
       "      <td>10</td>\n",
       "      <td>flood disast heavi rain caus flash flood stree...</td>\n",
       "      <td>1</td>\n",
       "    </tr>\n",
       "    <tr>\n",
       "      <th>7</th>\n",
       "      <td>7</td>\n",
       "      <td>13</td>\n",
       "      <td>top hill see fire wood</td>\n",
       "      <td>1</td>\n",
       "    </tr>\n",
       "    <tr>\n",
       "      <th>8</th>\n",
       "      <td>8</td>\n",
       "      <td>14</td>\n",
       "      <td>emerg evacu happen build across street</td>\n",
       "      <td>1</td>\n",
       "    </tr>\n",
       "    <tr>\n",
       "      <th>9</th>\n",
       "      <td>9</td>\n",
       "      <td>15</td>\n",
       "      <td>afraid tornado come area</td>\n",
       "      <td>1</td>\n",
       "    </tr>\n",
       "  </tbody>\n",
       "</table>\n",
       "</div>"
      ],
      "text/plain": [
       "   Unnamed: 0  id                                               text  target\n",
       "0           0   1      deed reason thi earthquak may allah forgiv us       1\n",
       "1           1   4               forest fire near la rong sask canada       1\n",
       "2           2   5  resid ask shelter place notifi offic evacu she...       1\n",
       "3           3   6        peopl receiv wildfir evacu order california       1\n",
       "4           4   7  got sent thi photo rubi alaska smoke wildfir p...       1\n",
       "5           5   8  rockyfir updat california hwi close direct due...       1\n",
       "6           6  10  flood disast heavi rain caus flash flood stree...       1\n",
       "7           7  13                             top hill see fire wood       1\n",
       "8           8  14             emerg evacu happen build across street       1\n",
       "9           9  15                           afraid tornado come area       1"
      ]
     },
     "execution_count": 2,
     "metadata": {},
     "output_type": "execute_result"
    }
   ],
   "source": [
    "data = pd.read_csv('BD/dados_limpos.csv')\n",
    "data.head(10) # 10 primeiros"
   ]
  },
  {
   "cell_type": "code",
   "execution_count": 3,
   "metadata": {},
   "outputs": [
    {
     "data": {
      "text/html": [
       "<div>\n",
       "<style scoped>\n",
       "    .dataframe tbody tr th:only-of-type {\n",
       "        vertical-align: middle;\n",
       "    }\n",
       "\n",
       "    .dataframe tbody tr th {\n",
       "        vertical-align: top;\n",
       "    }\n",
       "\n",
       "    .dataframe thead th {\n",
       "        text-align: right;\n",
       "    }\n",
       "</style>\n",
       "<table border=\"1\" class=\"dataframe\">\n",
       "  <thead>\n",
       "    <tr style=\"text-align: right;\">\n",
       "      <th></th>\n",
       "      <th>Unnamed: 0</th>\n",
       "      <th>id</th>\n",
       "      <th>text</th>\n",
       "      <th>target</th>\n",
       "    </tr>\n",
       "  </thead>\n",
       "  <tbody>\n",
       "    <tr>\n",
       "      <th>7603</th>\n",
       "      <td>7603</td>\n",
       "      <td>10862</td>\n",
       "      <td>offici say quarantin place alabama home possib...</td>\n",
       "      <td>1</td>\n",
       "    </tr>\n",
       "    <tr>\n",
       "      <th>7604</th>\n",
       "      <td>7604</td>\n",
       "      <td>10863</td>\n",
       "      <td>worldnew fallen powerlin g link tram updat fir...</td>\n",
       "      <td>1</td>\n",
       "    </tr>\n",
       "    <tr>\n",
       "      <th>7605</th>\n",
       "      <td>7605</td>\n",
       "      <td>10864</td>\n",
       "      <td>flip side walmart bomb everyon evacu stay tune...</td>\n",
       "      <td>1</td>\n",
       "    </tr>\n",
       "    <tr>\n",
       "      <th>7606</th>\n",
       "      <td>7606</td>\n",
       "      <td>10866</td>\n",
       "      <td>suicid bomber kill saudi secur site mosqu reut...</td>\n",
       "      <td>1</td>\n",
       "    </tr>\n",
       "    <tr>\n",
       "      <th>7607</th>\n",
       "      <td>7607</td>\n",
       "      <td>10867</td>\n",
       "      <td>stormchas violent record break ef el reno okla...</td>\n",
       "      <td>1</td>\n",
       "    </tr>\n",
       "    <tr>\n",
       "      <th>7608</th>\n",
       "      <td>7608</td>\n",
       "      <td>10869</td>\n",
       "      <td>two giant crane hold bridg collaps nearbi home</td>\n",
       "      <td>1</td>\n",
       "    </tr>\n",
       "    <tr>\n",
       "      <th>7609</th>\n",
       "      <td>7609</td>\n",
       "      <td>10870</td>\n",
       "      <td>ahrari control wild fire california even north...</td>\n",
       "      <td>1</td>\n",
       "    </tr>\n",
       "    <tr>\n",
       "      <th>7610</th>\n",
       "      <td>7610</td>\n",
       "      <td>10871</td>\n",
       "      <td>utc km volcano hawaii</td>\n",
       "      <td>1</td>\n",
       "    </tr>\n",
       "    <tr>\n",
       "      <th>7611</th>\n",
       "      <td>7611</td>\n",
       "      <td>10872</td>\n",
       "      <td>polic investig e bike collid car littl portug ...</td>\n",
       "      <td>1</td>\n",
       "    </tr>\n",
       "    <tr>\n",
       "      <th>7612</th>\n",
       "      <td>7612</td>\n",
       "      <td>10873</td>\n",
       "      <td>latest home raze northern california wildfir a...</td>\n",
       "      <td>1</td>\n",
       "    </tr>\n",
       "  </tbody>\n",
       "</table>\n",
       "</div>"
      ],
      "text/plain": [
       "      Unnamed: 0     id                                               text  \\\n",
       "7603        7603  10862  offici say quarantin place alabama home possib...   \n",
       "7604        7604  10863  worldnew fallen powerlin g link tram updat fir...   \n",
       "7605        7605  10864  flip side walmart bomb everyon evacu stay tune...   \n",
       "7606        7606  10866  suicid bomber kill saudi secur site mosqu reut...   \n",
       "7607        7607  10867  stormchas violent record break ef el reno okla...   \n",
       "7608        7608  10869     two giant crane hold bridg collaps nearbi home   \n",
       "7609        7609  10870  ahrari control wild fire california even north...   \n",
       "7610        7610  10871                              utc km volcano hawaii   \n",
       "7611        7611  10872  polic investig e bike collid car littl portug ...   \n",
       "7612        7612  10873  latest home raze northern california wildfir a...   \n",
       "\n",
       "      target  \n",
       "7603       1  \n",
       "7604       1  \n",
       "7605       1  \n",
       "7606       1  \n",
       "7607       1  \n",
       "7608       1  \n",
       "7609       1  \n",
       "7610       1  \n",
       "7611       1  \n",
       "7612       1  "
      ]
     },
     "execution_count": 3,
     "metadata": {},
     "output_type": "execute_result"
    }
   ],
   "source": [
    "data.tail(10) # 10 ultimos"
   ]
  },
  {
   "cell_type": "markdown",
   "metadata": {
    "colab_type": "text",
    "id": "sDv9fnulV0BM"
   },
   "source": [
    "# Preparando os Dados"
   ]
  },
  {
   "cell_type": "markdown",
   "metadata": {},
   "source": [
    "Agora vamos passar nossos dados para o modelo de ML(machine learning). Para issso vamos vetorizar nossos dados tento em vista que algoritmos de ML(machine learning) trabalham muito bem com números.\n",
    "\n",
    "\n",
    "Para isso vamos ultilizar uma biblioteca do scikit-learn que se chama CountVectorizer "
   ]
  },
  {
   "cell_type": "code",
   "execution_count": 4,
   "metadata": {},
   "outputs": [],
   "source": [
    "vectorizer = CountVectorizer(ngram_range = (1,3))"
   ]
  },
  {
   "cell_type": "markdown",
   "metadata": {},
   "source": [
    "O parâmeto nogram_range é utilizado para passar o range de n-gramas, para esse modelo vamos utilizar tri-gramas"
   ]
  },
  {
   "cell_type": "markdown",
   "metadata": {
    "colab_type": "text",
    "id": "ChmvClyyVmZx"
   },
   "source": [
    "# Treino e Teste"
   ]
  },
  {
   "cell_type": "code",
   "execution_count": 5,
   "metadata": {},
   "outputs": [],
   "source": [
    "X = data.text\n",
    "y = data.target"
   ]
  },
  {
   "cell_type": "code",
   "execution_count": 6,
   "metadata": {},
   "outputs": [],
   "source": [
    "X_train, X_test, y_train, y_test = train_test_split(X, y, stratify=y, test_size=0.33, random_state=45)"
   ]
  },
  {
   "cell_type": "code",
   "execution_count": 7,
   "metadata": {},
   "outputs": [],
   "source": [
    "X_train = vectorizer.fit_transform(X_train)\n",
    "X_test = vectorizer.transform(X_test)"
   ]
  },
  {
   "cell_type": "markdown",
   "metadata": {
    "colab_type": "text",
    "id": "esFro5xjVqsN"
   },
   "source": [
    "# Modelo : Regressão Logística\n",
    "\n",
    "Uma breve explicação sobre regressão logística : \n",
    "* É um modelo que permite estimar a probabilidade dá variável dependente assumir um determinado valor em função dos conhecidos de outras variáveis.\n",
    "* Os resultados da análise ficam contidos no intervalo de zero a um.\n",
    "* Recomendado para usar em situações em que a variável dependente é de natureza binária.\n",
    "\n",
    "![texto alternativo](https://matheusfacure.github.io/img/tutorial/sigmoid.png)"
   ]
  },
  {
   "cell_type": "code",
   "execution_count": 8,
   "metadata": {},
   "outputs": [
    {
     "data": {
      "text/plain": [
       "LogisticRegression(C=1.0, class_weight=None, dual=False, fit_intercept=True,\n",
       "                   intercept_scaling=1, l1_ratio=None, max_iter=100,\n",
       "                   multi_class='auto', n_jobs=None, penalty='l2',\n",
       "                   random_state=None, solver='lbfgs', tol=0.0001, verbose=0,\n",
       "                   warm_start=False)"
      ]
     },
     "execution_count": 8,
     "metadata": {},
     "output_type": "execute_result"
    }
   ],
   "source": [
    "modelLogistic = LogisticRegression()\n",
    "modelLogistic.fit(X_train,y_train)"
   ]
  },
  {
   "cell_type": "markdown",
   "metadata": {},
   "source": [
    "# Validação"
   ]
  },
  {
   "cell_type": "markdown",
   "metadata": {},
   "source": [
    "## Treino"
   ]
  },
  {
   "cell_type": "code",
   "execution_count": 9,
   "metadata": {},
   "outputs": [
    {
     "name": "stdout",
     "output_type": "stream",
     "text": [
      "              precision    recall  f1-score   support\n",
      "\n",
      "           0     0.9767    0.9931    0.9848      2909\n",
      "           1     0.9907    0.9685    0.9795      2191\n",
      "\n",
      "    accuracy                         0.9825      5100\n",
      "   macro avg     0.9837    0.9808    0.9821      5100\n",
      "weighted avg     0.9827    0.9825    0.9825      5100\n",
      "\n",
      "\n",
      "Accuracy  0.9825490196078431\n"
     ]
    }
   ],
   "source": [
    "y_pred = modelLogistic.predict(X_train)\n",
    "print(metrics.classification_report(y_train, y_pred,digits=4))\n",
    "print()\n",
    "print(\"Accuracy \" , accuracy_score(y_train, y_pred))"
   ]
  },
  {
   "cell_type": "markdown",
   "metadata": {
    "colab_type": "text",
    "id": "4wk99UwDV8Og"
   },
   "source": [
    "## Teste"
   ]
  },
  {
   "cell_type": "code",
   "execution_count": 10,
   "metadata": {},
   "outputs": [
    {
     "name": "stdout",
     "output_type": "stream",
     "text": [
      "              precision    recall  f1-score   support\n",
      "\n",
      "           0     0.7816    0.9016    0.8373      1433\n",
      "           1     0.8360    0.6657    0.7412      1080\n",
      "\n",
      "    accuracy                         0.8002      2513\n",
      "   macro avg     0.8088    0.7837    0.7893      2513\n",
      "weighted avg     0.8050    0.8002    0.7960      2513\n",
      "\n",
      "\n",
      "Accuracy  0.8002387584560287\n"
     ]
    }
   ],
   "source": [
    "y_pred = modelLogistic.predict(X_test)\n",
    "print(metrics.classification_report(y_test, y_pred,digits=4))\n",
    "print()\n",
    "print(\"Accuracy \" , accuracy_score(y_test, y_pred))"
   ]
  }
 ],
 "metadata": {
  "colab": {
   "name": "regressao_logistica.ipynb",
   "provenance": []
  },
  "kernelspec": {
   "display_name": "Python 3",
   "language": "python",
   "name": "python3"
  },
  "language_info": {
   "codemirror_mode": {
    "name": "ipython",
    "version": 3
   },
   "file_extension": ".py",
   "mimetype": "text/x-python",
   "name": "python",
   "nbconvert_exporter": "python",
   "pygments_lexer": "ipython3",
   "version": "3.6.10"
  }
 },
 "nbformat": 4,
 "nbformat_minor": 1
}
